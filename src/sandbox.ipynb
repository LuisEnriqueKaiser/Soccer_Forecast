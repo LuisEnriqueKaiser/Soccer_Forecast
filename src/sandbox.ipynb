{
 "cells": [
  {
   "cell_type": "code",
   "execution_count": 1,
   "metadata": {},
   "outputs": [
    {
     "data": {
      "text/html": [
       "<pre style=\"white-space:pre;overflow-x:auto;line-height:normal;font-family:Menlo,'DejaVu Sans Mono',consolas,'Courier New',monospace\"><span style=\"color: #7fbfbf; text-decoration-color: #7fbfbf\">[03/03/25 09:37:42] </span><span style=\"color: #000080; text-decoration-color: #000080\">INFO    </span> No custom team name replacements found. You can configure these in       <a href=\"file:///Users/luisenriquekaiser/Documents/soccer_betting_forecast/soccer_env/lib/python3.11/site-packages/soccerdata/_config.py\" target=\"_blank\"><span style=\"color: #7f7f7f; text-decoration-color: #7f7f7f\">_config.py</span></a><span style=\"color: #7f7f7f; text-decoration-color: #7f7f7f\">:</span><a href=\"file:///Users/luisenriquekaiser/Documents/soccer_betting_forecast/soccer_env/lib/python3.11/site-packages/soccerdata/_config.py#91\" target=\"_blank\"><span style=\"color: #7f7f7f; text-decoration-color: #7f7f7f\">91</span></a>\n",
       "<span style=\"color: #7fbfbf; text-decoration-color: #7fbfbf\">                    </span>         <span style=\"color: #800080; text-decoration-color: #800080\">/Users/luisenriquekaiser/soccerdata/config/</span><span style=\"color: #ff00ff; text-decoration-color: #ff00ff\">teamname_replacements.json.</span>   <span style=\"color: #7f7f7f; text-decoration-color: #7f7f7f\">             </span>\n",
       "</pre>\n"
      ],
      "text/plain": [
       "\u001b[2;36m[03/03/25 09:37:42]\u001b[0m\u001b[2;36m \u001b[0m\u001b[34mINFO    \u001b[0m No custom team name replacements found. You can configure these in       \u001b]8;id=6156;file:///Users/luisenriquekaiser/Documents/soccer_betting_forecast/soccer_env/lib/python3.11/site-packages/soccerdata/_config.py\u001b\\\u001b[2m_config.py\u001b[0m\u001b]8;;\u001b\\\u001b[2m:\u001b[0m\u001b]8;id=357468;file:///Users/luisenriquekaiser/Documents/soccer_betting_forecast/soccer_env/lib/python3.11/site-packages/soccerdata/_config.py#91\u001b\\\u001b[2m91\u001b[0m\u001b]8;;\u001b\\\n",
       "\u001b[2;36m                    \u001b[0m         \u001b[35m/Users/luisenriquekaiser/soccerdata/config/\u001b[0m\u001b[95mteamname_replacements.json.\u001b[0m   \u001b[2m             \u001b[0m\n"
      ]
     },
     "metadata": {},
     "output_type": "display_data"
    },
    {
     "data": {
      "text/html": [
       "<pre style=\"white-space:pre;overflow-x:auto;line-height:normal;font-family:Menlo,'DejaVu Sans Mono',consolas,'Courier New',monospace\"><span style=\"color: #7fbfbf; text-decoration-color: #7fbfbf\">                    </span><span style=\"color: #000080; text-decoration-color: #000080\">INFO    </span> No custom league dict found. You can configure additional leagues in    <a href=\"file:///Users/luisenriquekaiser/Documents/soccer_betting_forecast/soccer_env/lib/python3.11/site-packages/soccerdata/_config.py\" target=\"_blank\"><span style=\"color: #7f7f7f; text-decoration-color: #7f7f7f\">_config.py</span></a><span style=\"color: #7f7f7f; text-decoration-color: #7f7f7f\">:</span><a href=\"file:///Users/luisenriquekaiser/Documents/soccer_betting_forecast/soccer_env/lib/python3.11/site-packages/soccerdata/_config.py#197\" target=\"_blank\"><span style=\"color: #7f7f7f; text-decoration-color: #7f7f7f\">197</span></a>\n",
       "<span style=\"color: #7fbfbf; text-decoration-color: #7fbfbf\">                    </span>         <span style=\"color: #800080; text-decoration-color: #800080\">/Users/luisenriquekaiser/soccerdata/config/</span><span style=\"color: #ff00ff; text-decoration-color: #ff00ff\">league_dict.json.</span>            <span style=\"color: #7f7f7f; text-decoration-color: #7f7f7f\">              </span>\n",
       "</pre>\n"
      ],
      "text/plain": [
       "\u001b[2;36m                   \u001b[0m\u001b[2;36m \u001b[0m\u001b[34mINFO    \u001b[0m No custom league dict found. You can configure additional leagues in    \u001b]8;id=274505;file:///Users/luisenriquekaiser/Documents/soccer_betting_forecast/soccer_env/lib/python3.11/site-packages/soccerdata/_config.py\u001b\\\u001b[2m_config.py\u001b[0m\u001b]8;;\u001b\\\u001b[2m:\u001b[0m\u001b]8;id=310404;file:///Users/luisenriquekaiser/Documents/soccer_betting_forecast/soccer_env/lib/python3.11/site-packages/soccerdata/_config.py#197\u001b\\\u001b[2m197\u001b[0m\u001b]8;;\u001b\\\n",
       "\u001b[2;36m                    \u001b[0m         \u001b[35m/Users/luisenriquekaiser/soccerdata/config/\u001b[0m\u001b[95mleague_dict.json.\u001b[0m            \u001b[2m              \u001b[0m\n"
      ]
     },
     "metadata": {},
     "output_type": "display_data"
    }
   ],
   "source": [
    "import soccerdata as sd\n",
    "import pandas as pd\n"
   ]
  },
  {
   "cell_type": "code",
   "execution_count": 9,
   "metadata": {},
   "outputs": [],
   "source": [
    "# Define the leagues and seasons of interest\n",
    "leagues = [\n",
    "        \"ENG-Premier League\",  # Premier League\n",
    "        \"ESP-La Liga\",         # La Liga\n",
    "        \"GER-Bundesliga\"       # Bundesliga\n",
    "    ]\n",
    "seasons = [\"2020-2021\" ,\"2021-2022\",\"2022-2023\", \"2023-2024\", \"2024-2025\"]\n",
    "advanced_stats =['keeper', 'shooting', 'passing', 'passing_types', 'goal_shot_creation', 'defense', 'possession', 'misc']\n"
   ]
  },
  {
   "cell_type": "code",
   "execution_count": 18,
   "metadata": {},
   "outputs": [
    {
     "data": {
      "text/html": [
       "<pre style=\"white-space:pre;overflow-x:auto;line-height:normal;font-family:Menlo,'DejaVu Sans Mono',consolas,'Courier New',monospace\"><span style=\"color: #7fbfbf; text-decoration-color: #7fbfbf\">[02/28/25 17:32:17] </span><span style=\"color: #000080; text-decoration-color: #000080\">INFO    </span> Saving cached data to <span style=\"color: #800080; text-decoration-color: #800080\">/Users/luisenriquekaiser/soccerdata/data/</span><span style=\"color: #ff00ff; text-decoration-color: #ff00ff\">FBref</span>    <a href=\"file:///Users/luisenriquekaiser/Documents/soccer_betting_forecast/soccer_env/lib/python3.11/site-packages/soccerdata/_common.py\" target=\"_blank\"><span style=\"color: #7f7f7f; text-decoration-color: #7f7f7f\">_common.py</span></a><span style=\"color: #7f7f7f; text-decoration-color: #7f7f7f\">:</span><a href=\"file:///Users/luisenriquekaiser/Documents/soccer_betting_forecast/soccer_env/lib/python3.11/site-packages/soccerdata/_common.py#263\" target=\"_blank\"><span style=\"color: #7f7f7f; text-decoration-color: #7f7f7f\">263</span></a>\n",
       "</pre>\n"
      ],
      "text/plain": [
       "\u001b[2;36m[02/28/25 17:32:17]\u001b[0m\u001b[2;36m \u001b[0m\u001b[34mINFO    \u001b[0m Saving cached data to \u001b[35m/Users/luisenriquekaiser/soccerdata/data/\u001b[0m\u001b[95mFBref\u001b[0m    \u001b]8;id=554940;file:///Users/luisenriquekaiser/Documents/soccer_betting_forecast/soccer_env/lib/python3.11/site-packages/soccerdata/_common.py\u001b\\\u001b[2m_common.py\u001b[0m\u001b]8;;\u001b\\\u001b[2m:\u001b[0m\u001b]8;id=254033;file:///Users/luisenriquekaiser/Documents/soccer_betting_forecast/soccer_env/lib/python3.11/site-packages/soccerdata/_common.py#263\u001b\\\u001b[2m263\u001b[0m\u001b]8;;\u001b\\\n"
      ]
     },
     "metadata": {},
     "output_type": "display_data"
    },
    {
     "data": {
      "text/html": [
       "<pre style=\"white-space:pre;overflow-x:auto;line-height:normal;font-family:Menlo,'DejaVu Sans Mono',consolas,'Courier New',monospace\"><span style=\"color: #7fbfbf; text-decoration-color: #7fbfbf\">[02/28/25 17:32:24] </span><span style=\"color: #000080; text-decoration-color: #000080\">INFO    </span> Saving cached data to <span style=\"color: #800080; text-decoration-color: #800080\">/Users/luisenriquekaiser/soccerdata/data/</span><span style=\"color: #ff00ff; text-decoration-color: #ff00ff\">FBref</span>    <a href=\"file:///Users/luisenriquekaiser/Documents/soccer_betting_forecast/soccer_env/lib/python3.11/site-packages/soccerdata/_common.py\" target=\"_blank\"><span style=\"color: #7f7f7f; text-decoration-color: #7f7f7f\">_common.py</span></a><span style=\"color: #7f7f7f; text-decoration-color: #7f7f7f\">:</span><a href=\"file:///Users/luisenriquekaiser/Documents/soccer_betting_forecast/soccer_env/lib/python3.11/site-packages/soccerdata/_common.py#263\" target=\"_blank\"><span style=\"color: #7f7f7f; text-decoration-color: #7f7f7f\">263</span></a>\n",
       "</pre>\n"
      ],
      "text/plain": [
       "\u001b[2;36m[02/28/25 17:32:24]\u001b[0m\u001b[2;36m \u001b[0m\u001b[34mINFO    \u001b[0m Saving cached data to \u001b[35m/Users/luisenriquekaiser/soccerdata/data/\u001b[0m\u001b[95mFBref\u001b[0m    \u001b]8;id=39721;file:///Users/luisenriquekaiser/Documents/soccer_betting_forecast/soccer_env/lib/python3.11/site-packages/soccerdata/_common.py\u001b\\\u001b[2m_common.py\u001b[0m\u001b]8;;\u001b\\\u001b[2m:\u001b[0m\u001b]8;id=220162;file:///Users/luisenriquekaiser/Documents/soccer_betting_forecast/soccer_env/lib/python3.11/site-packages/soccerdata/_common.py#263\u001b\\\u001b[2m263\u001b[0m\u001b]8;;\u001b\\\n"
      ]
     },
     "metadata": {},
     "output_type": "display_data"
    }
   ],
   "source": [
    "# filepaths\n",
    "filepath = \"/Users/luisenriquekaiser/Documents/soccer_betting_forecast/data/fbref/\"\n",
    "league = \"ENG-Premier League\"\n",
    "fbref = sd.FBref(leagues=league, seasons=seasons)\n",
    "df_schedule = fbref.read_schedule()\n",
    "# save \n",
    "df_schedule.to_csv(filepath + league + \"_schedule.csv\", index=False)\n",
    "\n",
    "league = \"ESP-La Liga\"\n",
    "fbref = sd.FBref(leagues=league, seasons=seasons)\n",
    "df_schedule = fbref.read_schedule()\n",
    "# save\n",
    "df_schedule.to_csv(filepath + league + \"_schedule.csv\", index=False)\n",
    "\n",
    "\n"
   ]
  },
  {
   "cell_type": "code",
   "execution_count": null,
   "metadata": {},
   "outputs": [
    {
     "data": {
      "text/html": [
       "<pre style=\"white-space:pre;overflow-x:auto;line-height:normal;font-family:Menlo,'DejaVu Sans Mono',consolas,'Courier New',monospace\"><span style=\"color: #7fbfbf; text-decoration-color: #7fbfbf\">[02/28/25 16:46:16] </span><span style=\"color: #000080; text-decoration-color: #000080\">INFO    </span> Saving cached data to <span style=\"color: #800080; text-decoration-color: #800080\">/Users/luisenriquekaiser/soccerdata/data/</span><span style=\"color: #ff00ff; text-decoration-color: #ff00ff\">FBref</span>    <a href=\"file:///Users/luisenriquekaiser/Documents/soccer_betting_forecast/soccer_env/lib/python3.11/site-packages/soccerdata/_common.py\" target=\"_blank\"><span style=\"color: #7f7f7f; text-decoration-color: #7f7f7f\">_common.py</span></a><span style=\"color: #7f7f7f; text-decoration-color: #7f7f7f\">:</span><a href=\"file:///Users/luisenriquekaiser/Documents/soccer_betting_forecast/soccer_env/lib/python3.11/site-packages/soccerdata/_common.py#263\" target=\"_blank\"><span style=\"color: #7f7f7f; text-decoration-color: #7f7f7f\">263</span></a>\n",
       "</pre>\n"
      ],
      "text/plain": [
       "\u001b[2;36m[02/28/25 16:46:16]\u001b[0m\u001b[2;36m \u001b[0m\u001b[34mINFO    \u001b[0m Saving cached data to \u001b[35m/Users/luisenriquekaiser/soccerdata/data/\u001b[0m\u001b[95mFBref\u001b[0m    \u001b]8;id=614995;file:///Users/luisenriquekaiser/Documents/soccer_betting_forecast/soccer_env/lib/python3.11/site-packages/soccerdata/_common.py\u001b\\\u001b[2m_common.py\u001b[0m\u001b]8;;\u001b\\\u001b[2m:\u001b[0m\u001b]8;id=705725;file:///Users/luisenriquekaiser/Documents/soccer_betting_forecast/soccer_env/lib/python3.11/site-packages/soccerdata/_common.py#263\u001b\\\u001b[2m263\u001b[0m\u001b]8;;\u001b\\\n"
      ]
     },
     "metadata": {},
     "output_type": "display_data"
    },
    {
     "name": "stdout",
     "output_type": "stream",
     "text": [
      "Reading keeper stats in ENG-Premier League in ['2020-2021', '2021-2022', '2022-2023', '2023-2024', '2024-2025']\n",
      "Error reading keeper stats in ENG-Premier League\n",
      "Reading shooting stats in ENG-Premier League in ['2020-2021', '2021-2022', '2022-2023', '2023-2024', '2024-2025']\n",
      "Reading passing stats in ENG-Premier League in ['2020-2021', '2021-2022', '2022-2023', '2023-2024', '2024-2025']\n",
      "Reading passing_types stats in ENG-Premier League in ['2020-2021', '2021-2022', '2022-2023', '2023-2024', '2024-2025']\n",
      "Reading goal_shot_creation stats in ENG-Premier League in ['2020-2021', '2021-2022', '2022-2023', '2023-2024', '2024-2025']\n",
      "Reading defense stats in ENG-Premier League in ['2020-2021', '2021-2022', '2022-2023', '2023-2024', '2024-2025']\n",
      "Reading possession stats in ENG-Premier League in ['2020-2021', '2021-2022', '2022-2023', '2023-2024', '2024-2025']\n",
      "Reading misc stats in ENG-Premier League in ['2020-2021', '2021-2022', '2022-2023', '2023-2024', '2024-2025']\n"
     ]
    },
    {
     "data": {
      "text/html": [
       "<pre style=\"white-space:pre;overflow-x:auto;line-height:normal;font-family:Menlo,'DejaVu Sans Mono',consolas,'Courier New',monospace\"><span style=\"color: #7fbfbf; text-decoration-color: #7fbfbf\">[02/28/25 17:00:59] </span><span style=\"color: #000080; text-decoration-color: #000080\">INFO    </span> Saving cached data to <span style=\"color: #800080; text-decoration-color: #800080\">/Users/luisenriquekaiser/soccerdata/data/</span><span style=\"color: #ff00ff; text-decoration-color: #ff00ff\">FBref</span>    <a href=\"file:///Users/luisenriquekaiser/Documents/soccer_betting_forecast/soccer_env/lib/python3.11/site-packages/soccerdata/_common.py\" target=\"_blank\"><span style=\"color: #7f7f7f; text-decoration-color: #7f7f7f\">_common.py</span></a><span style=\"color: #7f7f7f; text-decoration-color: #7f7f7f\">:</span><a href=\"file:///Users/luisenriquekaiser/Documents/soccer_betting_forecast/soccer_env/lib/python3.11/site-packages/soccerdata/_common.py#263\" target=\"_blank\"><span style=\"color: #7f7f7f; text-decoration-color: #7f7f7f\">263</span></a>\n",
       "</pre>\n"
      ],
      "text/plain": [
       "\u001b[2;36m[02/28/25 17:00:59]\u001b[0m\u001b[2;36m \u001b[0m\u001b[34mINFO    \u001b[0m Saving cached data to \u001b[35m/Users/luisenriquekaiser/soccerdata/data/\u001b[0m\u001b[95mFBref\u001b[0m    \u001b]8;id=917319;file:///Users/luisenriquekaiser/Documents/soccer_betting_forecast/soccer_env/lib/python3.11/site-packages/soccerdata/_common.py\u001b\\\u001b[2m_common.py\u001b[0m\u001b]8;;\u001b\\\u001b[2m:\u001b[0m\u001b]8;id=603812;file:///Users/luisenriquekaiser/Documents/soccer_betting_forecast/soccer_env/lib/python3.11/site-packages/soccerdata/_common.py#263\u001b\\\u001b[2m263\u001b[0m\u001b]8;;\u001b\\\n"
      ]
     },
     "metadata": {},
     "output_type": "display_data"
    },
    {
     "name": "stdout",
     "output_type": "stream",
     "text": [
      "Reading keeper stats in ESP-La Liga in ['2020-2021', '2021-2022', '2022-2023', '2023-2024', '2024-2025']\n",
      "Reading shooting stats in ESP-La Liga in ['2020-2021', '2021-2022', '2022-2023', '2023-2024', '2024-2025']\n",
      "Reading passing stats in ESP-La Liga in ['2020-2021', '2021-2022', '2022-2023', '2023-2024', '2024-2025']\n",
      "Reading passing_types stats in ESP-La Liga in ['2020-2021', '2021-2022', '2022-2023', '2023-2024', '2024-2025']\n",
      "Reading goal_shot_creation stats in ESP-La Liga in ['2020-2021', '2021-2022', '2022-2023', '2023-2024', '2024-2025']\n",
      "Reading defense stats in ESP-La Liga in ['2020-2021', '2021-2022', '2022-2023', '2023-2024', '2024-2025']\n",
      "Reading possession stats in ESP-La Liga in ['2020-2021', '2021-2022', '2022-2023', '2023-2024', '2024-2025']\n",
      "Reading misc stats in ESP-La Liga in ['2020-2021', '2021-2022', '2022-2023', '2023-2024', '2024-2025']\n"
     ]
    },
    {
     "data": {
      "text/html": [
       "<pre style=\"white-space:pre;overflow-x:auto;line-height:normal;font-family:Menlo,'DejaVu Sans Mono',consolas,'Courier New',monospace\"><span style=\"color: #7fbfbf; text-decoration-color: #7fbfbf\">[02/28/25 17:18:08] </span><span style=\"color: #000080; text-decoration-color: #000080\">INFO    </span> Saving cached data to <span style=\"color: #800080; text-decoration-color: #800080\">/Users/luisenriquekaiser/soccerdata/data/</span><span style=\"color: #ff00ff; text-decoration-color: #ff00ff\">FBref</span>    <a href=\"file:///Users/luisenriquekaiser/Documents/soccer_betting_forecast/soccer_env/lib/python3.11/site-packages/soccerdata/_common.py\" target=\"_blank\"><span style=\"color: #7f7f7f; text-decoration-color: #7f7f7f\">_common.py</span></a><span style=\"color: #7f7f7f; text-decoration-color: #7f7f7f\">:</span><a href=\"file:///Users/luisenriquekaiser/Documents/soccer_betting_forecast/soccer_env/lib/python3.11/site-packages/soccerdata/_common.py#263\" target=\"_blank\"><span style=\"color: #7f7f7f; text-decoration-color: #7f7f7f\">263</span></a>\n",
       "</pre>\n"
      ],
      "text/plain": [
       "\u001b[2;36m[02/28/25 17:18:08]\u001b[0m\u001b[2;36m \u001b[0m\u001b[34mINFO    \u001b[0m Saving cached data to \u001b[35m/Users/luisenriquekaiser/soccerdata/data/\u001b[0m\u001b[95mFBref\u001b[0m    \u001b]8;id=28734;file:///Users/luisenriquekaiser/Documents/soccer_betting_forecast/soccer_env/lib/python3.11/site-packages/soccerdata/_common.py\u001b\\\u001b[2m_common.py\u001b[0m\u001b]8;;\u001b\\\u001b[2m:\u001b[0m\u001b]8;id=796143;file:///Users/luisenriquekaiser/Documents/soccer_betting_forecast/soccer_env/lib/python3.11/site-packages/soccerdata/_common.py#263\u001b\\\u001b[2m263\u001b[0m\u001b]8;;\u001b\\\n"
      ]
     },
     "metadata": {},
     "output_type": "display_data"
    },
    {
     "name": "stdout",
     "output_type": "stream",
     "text": [
      "Reading keeper stats in GER-Bundesliga in ['2020-2021', '2021-2022', '2022-2023', '2023-2024', '2024-2025']\n",
      "Error reading keeper stats in GER-Bundesliga\n",
      "Reading shooting stats in GER-Bundesliga in ['2020-2021', '2021-2022', '2022-2023', '2023-2024', '2024-2025']\n",
      "Error reading shooting stats in GER-Bundesliga\n",
      "Reading passing stats in GER-Bundesliga in ['2020-2021', '2021-2022', '2022-2023', '2023-2024', '2024-2025']\n",
      "Error reading passing stats in GER-Bundesliga\n",
      "Reading passing_types stats in GER-Bundesliga in ['2020-2021', '2021-2022', '2022-2023', '2023-2024', '2024-2025']\n",
      "Error reading passing_types stats in GER-Bundesliga\n",
      "Reading goal_shot_creation stats in GER-Bundesliga in ['2020-2021', '2021-2022', '2022-2023', '2023-2024', '2024-2025']\n",
      "Error reading goal_shot_creation stats in GER-Bundesliga\n",
      "Reading defense stats in GER-Bundesliga in ['2020-2021', '2021-2022', '2022-2023', '2023-2024', '2024-2025']\n",
      "Error reading defense stats in GER-Bundesliga\n",
      "Reading possession stats in GER-Bundesliga in ['2020-2021', '2021-2022', '2022-2023', '2023-2024', '2024-2025']\n",
      "Error reading possession stats in GER-Bundesliga\n",
      "Reading misc stats in GER-Bundesliga in ['2020-2021', '2021-2022', '2022-2023', '2023-2024', '2024-2025']\n",
      "Error reading misc stats in GER-Bundesliga\n"
     ]
    }
   ],
   "source": [
    "advanced_stats_data = []\n",
    "\n",
    "for league in leagues:\n",
    "    fbref = sd.FBref(leagues=league, seasons=seasons)\n",
    "    for stat in advanced_stats:\n",
    "        print(f\"Reading {stat} stats in {league} in {seasons}\")\n",
    "        try:\n",
    "            advanced_stats_data.append(fbref.read_team_match_stats(stat_type=stat))\n",
    "        except:\n",
    "            print(f\"Error reading {stat} stats in {league}\")\n",
    "\n"
   ]
  },
  {
   "cell_type": "code",
   "execution_count": 16,
   "metadata": {},
   "outputs": [
    {
     "data": {
      "text/html": [
       "<pre style=\"white-space:pre;overflow-x:auto;line-height:normal;font-family:Menlo,'DejaVu Sans Mono',consolas,'Courier New',monospace\"><span style=\"color: #7fbfbf; text-decoration-color: #7fbfbf\">[02/28/25 17:30:02] </span><span style=\"color: #000080; text-decoration-color: #000080\">INFO    </span> Saving cached data to <span style=\"color: #800080; text-decoration-color: #800080\">/Users/luisenriquekaiser/soccerdata/data/</span><span style=\"color: #ff00ff; text-decoration-color: #ff00ff\">FBref</span>    <a href=\"file:///Users/luisenriquekaiser/Documents/soccer_betting_forecast/soccer_env/lib/python3.11/site-packages/soccerdata/_common.py\" target=\"_blank\"><span style=\"color: #7f7f7f; text-decoration-color: #7f7f7f\">_common.py</span></a><span style=\"color: #7f7f7f; text-decoration-color: #7f7f7f\">:</span><a href=\"file:///Users/luisenriquekaiser/Documents/soccer_betting_forecast/soccer_env/lib/python3.11/site-packages/soccerdata/_common.py#263\" target=\"_blank\"><span style=\"color: #7f7f7f; text-decoration-color: #7f7f7f\">263</span></a>\n",
       "</pre>\n"
      ],
      "text/plain": [
       "\u001b[2;36m[02/28/25 17:30:02]\u001b[0m\u001b[2;36m \u001b[0m\u001b[34mINFO    \u001b[0m Saving cached data to \u001b[35m/Users/luisenriquekaiser/soccerdata/data/\u001b[0m\u001b[95mFBref\u001b[0m    \u001b]8;id=620295;file:///Users/luisenriquekaiser/Documents/soccer_betting_forecast/soccer_env/lib/python3.11/site-packages/soccerdata/_common.py\u001b\\\u001b[2m_common.py\u001b[0m\u001b]8;;\u001b\\\u001b[2m:\u001b[0m\u001b]8;id=377157;file:///Users/luisenriquekaiser/Documents/soccer_betting_forecast/soccer_env/lib/python3.11/site-packages/soccerdata/_common.py#263\u001b\\\u001b[2m263\u001b[0m\u001b]8;;\u001b\\\n"
      ]
     },
     "metadata": {},
     "output_type": "display_data"
    },
    {
     "name": "stdout",
     "output_type": "stream",
     "text": [
      "Reading keeper stats in ENG-Premier League in ['2020-2021', '2021-2022', '2022-2023', '2023-2024', '2024-2025']\n",
      "Saved /Users/luisenriquekaiser/Documents/soccer_betting_forecast/data/fbref/eng-premier_league_keeper_['2020-2021',_'2021-2022',_'2022-2023',_'2023-2024',_'2024-2025'].csv\n",
      "Reading shooting stats in ENG-Premier League in ['2020-2021', '2021-2022', '2022-2023', '2023-2024', '2024-2025']\n",
      "Saved /Users/luisenriquekaiser/Documents/soccer_betting_forecast/data/fbref/eng-premier_league_shooting_['2020-2021',_'2021-2022',_'2022-2023',_'2023-2024',_'2024-2025'].csv\n",
      "Reading passing stats in ENG-Premier League in ['2020-2021', '2021-2022', '2022-2023', '2023-2024', '2024-2025']\n",
      "Saved /Users/luisenriquekaiser/Documents/soccer_betting_forecast/data/fbref/eng-premier_league_passing_['2020-2021',_'2021-2022',_'2022-2023',_'2023-2024',_'2024-2025'].csv\n",
      "Reading passing_types stats in ENG-Premier League in ['2020-2021', '2021-2022', '2022-2023', '2023-2024', '2024-2025']\n",
      "Saved /Users/luisenriquekaiser/Documents/soccer_betting_forecast/data/fbref/eng-premier_league_passing_types_['2020-2021',_'2021-2022',_'2022-2023',_'2023-2024',_'2024-2025'].csv\n",
      "Reading goal_shot_creation stats in ENG-Premier League in ['2020-2021', '2021-2022', '2022-2023', '2023-2024', '2024-2025']\n",
      "Saved /Users/luisenriquekaiser/Documents/soccer_betting_forecast/data/fbref/eng-premier_league_goal_shot_creation_['2020-2021',_'2021-2022',_'2022-2023',_'2023-2024',_'2024-2025'].csv\n",
      "Reading defense stats in ENG-Premier League in ['2020-2021', '2021-2022', '2022-2023', '2023-2024', '2024-2025']\n",
      "Saved /Users/luisenriquekaiser/Documents/soccer_betting_forecast/data/fbref/eng-premier_league_defense_['2020-2021',_'2021-2022',_'2022-2023',_'2023-2024',_'2024-2025'].csv\n",
      "Reading possession stats in ENG-Premier League in ['2020-2021', '2021-2022', '2022-2023', '2023-2024', '2024-2025']\n",
      "Saved /Users/luisenriquekaiser/Documents/soccer_betting_forecast/data/fbref/eng-premier_league_possession_['2020-2021',_'2021-2022',_'2022-2023',_'2023-2024',_'2024-2025'].csv\n",
      "Reading misc stats in ENG-Premier League in ['2020-2021', '2021-2022', '2022-2023', '2023-2024', '2024-2025']\n",
      "Saved /Users/luisenriquekaiser/Documents/soccer_betting_forecast/data/fbref/eng-premier_league_misc_['2020-2021',_'2021-2022',_'2022-2023',_'2023-2024',_'2024-2025'].csv\n"
     ]
    },
    {
     "data": {
      "text/html": [
       "<pre style=\"white-space:pre;overflow-x:auto;line-height:normal;font-family:Menlo,'DejaVu Sans Mono',consolas,'Courier New',monospace\"><span style=\"color: #7fbfbf; text-decoration-color: #7fbfbf\">                    </span><span style=\"color: #000080; text-decoration-color: #000080\">INFO    </span> Saving cached data to <span style=\"color: #800080; text-decoration-color: #800080\">/Users/luisenriquekaiser/soccerdata/data/</span><span style=\"color: #ff00ff; text-decoration-color: #ff00ff\">FBref</span>    <a href=\"file:///Users/luisenriquekaiser/Documents/soccer_betting_forecast/soccer_env/lib/python3.11/site-packages/soccerdata/_common.py\" target=\"_blank\"><span style=\"color: #7f7f7f; text-decoration-color: #7f7f7f\">_common.py</span></a><span style=\"color: #7f7f7f; text-decoration-color: #7f7f7f\">:</span><a href=\"file:///Users/luisenriquekaiser/Documents/soccer_betting_forecast/soccer_env/lib/python3.11/site-packages/soccerdata/_common.py#263\" target=\"_blank\"><span style=\"color: #7f7f7f; text-decoration-color: #7f7f7f\">263</span></a>\n",
       "</pre>\n"
      ],
      "text/plain": [
       "\u001b[2;36m                   \u001b[0m\u001b[2;36m \u001b[0m\u001b[34mINFO    \u001b[0m Saving cached data to \u001b[35m/Users/luisenriquekaiser/soccerdata/data/\u001b[0m\u001b[95mFBref\u001b[0m    \u001b]8;id=143063;file:///Users/luisenriquekaiser/Documents/soccer_betting_forecast/soccer_env/lib/python3.11/site-packages/soccerdata/_common.py\u001b\\\u001b[2m_common.py\u001b[0m\u001b]8;;\u001b\\\u001b[2m:\u001b[0m\u001b]8;id=946647;file:///Users/luisenriquekaiser/Documents/soccer_betting_forecast/soccer_env/lib/python3.11/site-packages/soccerdata/_common.py#263\u001b\\\u001b[2m263\u001b[0m\u001b]8;;\u001b\\\n"
      ]
     },
     "metadata": {},
     "output_type": "display_data"
    },
    {
     "name": "stdout",
     "output_type": "stream",
     "text": [
      "Reading keeper stats in ESP-La Liga in ['2020-2021', '2021-2022', '2022-2023', '2023-2024', '2024-2025']\n",
      "Saved /Users/luisenriquekaiser/Documents/soccer_betting_forecast/data/fbref/esp-la_liga_keeper_['2020-2021',_'2021-2022',_'2022-2023',_'2023-2024',_'2024-2025'].csv\n",
      "Reading shooting stats in ESP-La Liga in ['2020-2021', '2021-2022', '2022-2023', '2023-2024', '2024-2025']\n",
      "Saved /Users/luisenriquekaiser/Documents/soccer_betting_forecast/data/fbref/esp-la_liga_shooting_['2020-2021',_'2021-2022',_'2022-2023',_'2023-2024',_'2024-2025'].csv\n",
      "Reading passing stats in ESP-La Liga in ['2020-2021', '2021-2022', '2022-2023', '2023-2024', '2024-2025']\n",
      "Saved /Users/luisenriquekaiser/Documents/soccer_betting_forecast/data/fbref/esp-la_liga_passing_['2020-2021',_'2021-2022',_'2022-2023',_'2023-2024',_'2024-2025'].csv\n",
      "Reading passing_types stats in ESP-La Liga in ['2020-2021', '2021-2022', '2022-2023', '2023-2024', '2024-2025']\n",
      "Saved /Users/luisenriquekaiser/Documents/soccer_betting_forecast/data/fbref/esp-la_liga_passing_types_['2020-2021',_'2021-2022',_'2022-2023',_'2023-2024',_'2024-2025'].csv\n",
      "Reading goal_shot_creation stats in ESP-La Liga in ['2020-2021', '2021-2022', '2022-2023', '2023-2024', '2024-2025']\n",
      "Saved /Users/luisenriquekaiser/Documents/soccer_betting_forecast/data/fbref/esp-la_liga_goal_shot_creation_['2020-2021',_'2021-2022',_'2022-2023',_'2023-2024',_'2024-2025'].csv\n",
      "Reading defense stats in ESP-La Liga in ['2020-2021', '2021-2022', '2022-2023', '2023-2024', '2024-2025']\n",
      "Saved /Users/luisenriquekaiser/Documents/soccer_betting_forecast/data/fbref/esp-la_liga_defense_['2020-2021',_'2021-2022',_'2022-2023',_'2023-2024',_'2024-2025'].csv\n",
      "Reading possession stats in ESP-La Liga in ['2020-2021', '2021-2022', '2022-2023', '2023-2024', '2024-2025']\n",
      "Saved /Users/luisenriquekaiser/Documents/soccer_betting_forecast/data/fbref/esp-la_liga_possession_['2020-2021',_'2021-2022',_'2022-2023',_'2023-2024',_'2024-2025'].csv\n",
      "Reading misc stats in ESP-La Liga in ['2020-2021', '2021-2022', '2022-2023', '2023-2024', '2024-2025']\n"
     ]
    },
    {
     "ename": "IndexError",
     "evalue": "list index out of range",
     "output_type": "error",
     "traceback": [
      "\u001b[31m---------------------------------------------------------------------------\u001b[39m",
      "\u001b[31mIndexError\u001b[39m                                Traceback (most recent call last)",
      "\u001b[36mCell\u001b[39m\u001b[36m \u001b[39m\u001b[32mIn[16]\u001b[39m\u001b[32m, line 12\u001b[39m\n\u001b[32m     10\u001b[39m filename = \u001b[33mf\u001b[39m\u001b[33m\"\u001b[39m\u001b[38;5;132;01m{\u001b[39;00mleague\u001b[38;5;132;01m}\u001b[39;00m\u001b[33m_\u001b[39m\u001b[38;5;132;01m{\u001b[39;00mstat\u001b[38;5;132;01m}\u001b[39;00m\u001b[33m_\u001b[39m\u001b[38;5;132;01m{\u001b[39;00mseasons\u001b[38;5;132;01m}\u001b[39;00m\u001b[33m.csv\u001b[39m\u001b[33m\"\u001b[39m.replace(\u001b[33m\"\u001b[39m\u001b[33m \u001b[39m\u001b[33m\"\u001b[39m, \u001b[33m\"\u001b[39m\u001b[33m_\u001b[39m\u001b[33m\"\u001b[39m).lower()\n\u001b[32m     11\u001b[39m full_path = os.path.join(filepath, filename)\n\u001b[32m---> \u001b[39m\u001b[32m12\u001b[39m \u001b[43madvanced_stats_data\u001b[49m\u001b[43m[\u001b[49m\u001b[43mi\u001b[49m\u001b[43m]\u001b[49m.to_csv(full_path, index=\u001b[38;5;28;01mFalse\u001b[39;00m)\n\u001b[32m     13\u001b[39m \u001b[38;5;28mprint\u001b[39m(\u001b[33mf\u001b[39m\u001b[33m\"\u001b[39m\u001b[33mSaved \u001b[39m\u001b[38;5;132;01m{\u001b[39;00mfull_path\u001b[38;5;132;01m}\u001b[39;00m\u001b[33m\"\u001b[39m)\n\u001b[32m     14\u001b[39m i += \u001b[32m1\u001b[39m\n",
      "\u001b[31mIndexError\u001b[39m: list index out of range"
     ]
    }
   ],
   "source": [
    "import os \n",
    "filepath = \"/Users/luisenriquekaiser/Documents/soccer_betting_forecast/data/fbref/\"\n",
    "i = 0 \n",
    "# Save files with meaningful names\n",
    "for league in leagues:\n",
    "    fbref = sd.FBref(leagues=league, seasons=seasons)\n",
    "    for stat in advanced_stats:\n",
    "        print(f\"Reading {stat} stats in {league} in {seasons}\")\n",
    "        # save the data\n",
    "        filename = f\"{league}_{stat}_{seasons}.csv\".replace(\" \", \"_\").lower()\n",
    "        full_path = os.path.join(filepath, filename)\n",
    "        advanced_stats_data[i].to_csv(full_path, index=False)\n",
    "        print(f\"Saved {full_path}\")\n",
    "        i += 1\n",
    "    \n"
   ]
  },
  {
   "cell_type": "code",
   "execution_count": 20,
   "metadata": {},
   "outputs": [
    {
     "ename": "KeyError",
     "evalue": "'match_id'",
     "output_type": "error",
     "traceback": [
      "\u001b[31m---------------------------------------------------------------------------\u001b[39m",
      "\u001b[31mKeyError\u001b[39m                                  Traceback (most recent call last)",
      "\u001b[32m/var/folders/k1/n035yq891w95hzqpmlll09k80000gn/T/ipykernel_59597/3737540972.py\u001b[39m in \u001b[36m?\u001b[39m\u001b[34m()\u001b[39m\n\u001b[32m----> \u001b[39m\u001b[32m1\u001b[39m df_unified = pd.merge(df_schedule, df_advanced_stats, on=\u001b[33m'match_id'\u001b[39m, how=\u001b[33m'left'\u001b[39m)\n",
      "\u001b[32m~/Documents/soccer_betting_forecast/soccer_env/lib/python3.11/site-packages/pandas/core/reshape/merge.py\u001b[39m in \u001b[36m?\u001b[39m\u001b[34m(left, right, how, on, left_on, right_on, left_index, right_index, sort, suffixes, copy, indicator, validate)\u001b[39m\n\u001b[32m    166\u001b[39m             validate=validate,\n\u001b[32m    167\u001b[39m             copy=copy,\n\u001b[32m    168\u001b[39m         )\n\u001b[32m    169\u001b[39m     \u001b[38;5;28;01melse\u001b[39;00m:\n\u001b[32m--> \u001b[39m\u001b[32m170\u001b[39m         op = _MergeOperation(\n\u001b[32m    171\u001b[39m             left_df,\n\u001b[32m    172\u001b[39m             right_df,\n\u001b[32m    173\u001b[39m             how=how,\n",
      "\u001b[32m~/Documents/soccer_betting_forecast/soccer_env/lib/python3.11/site-packages/pandas/core/reshape/merge.py\u001b[39m in \u001b[36m?\u001b[39m\u001b[34m(self, left, right, how, on, left_on, right_on, left_index, right_index, sort, suffixes, indicator, validate)\u001b[39m\n\u001b[32m    790\u001b[39m             self.right_join_keys,\n\u001b[32m    791\u001b[39m             self.join_names,\n\u001b[32m    792\u001b[39m             left_drop,\n\u001b[32m    793\u001b[39m             right_drop,\n\u001b[32m--> \u001b[39m\u001b[32m794\u001b[39m         ) = self._get_merge_keys()\n\u001b[32m    795\u001b[39m \n\u001b[32m    796\u001b[39m         \u001b[38;5;28;01mif\u001b[39;00m left_drop:\n\u001b[32m    797\u001b[39m             self.left = self.left._drop_labels_or_levels(left_drop)\n",
      "\u001b[32m~/Documents/soccer_betting_forecast/soccer_env/lib/python3.11/site-packages/pandas/core/reshape/merge.py\u001b[39m in \u001b[36m?\u001b[39m\u001b[34m(self)\u001b[39m\n\u001b[32m   1293\u001b[39m                         \u001b[38;5;66;03m# Then we're either Hashable or a wrong-length arraylike,\u001b[39;00m\n\u001b[32m   1294\u001b[39m                         \u001b[38;5;66;03m#  the latter of which will raise\u001b[39;00m\n\u001b[32m   1295\u001b[39m                         rk = cast(Hashable, rk)\n\u001b[32m   1296\u001b[39m                         \u001b[38;5;28;01mif\u001b[39;00m rk \u001b[38;5;28;01mis\u001b[39;00m \u001b[38;5;28;01mnot\u001b[39;00m \u001b[38;5;28;01mNone\u001b[39;00m:\n\u001b[32m-> \u001b[39m\u001b[32m1297\u001b[39m                             right_keys.append(right._get_label_or_level_values(rk))\n\u001b[32m   1298\u001b[39m                         \u001b[38;5;28;01melse\u001b[39;00m:\n\u001b[32m   1299\u001b[39m                             \u001b[38;5;66;03m# work-around for merge_asof(right_index=True)\u001b[39;00m\n\u001b[32m   1300\u001b[39m                             right_keys.append(right.index._values)\n",
      "\u001b[32m~/Documents/soccer_betting_forecast/soccer_env/lib/python3.11/site-packages/pandas/core/generic.py\u001b[39m in \u001b[36m?\u001b[39m\u001b[34m(self, key, axis)\u001b[39m\n\u001b[32m   1907\u001b[39m             values = self.xs(key, axis=other_axes[\u001b[32m0\u001b[39m])._values\n\u001b[32m   1908\u001b[39m         \u001b[38;5;28;01melif\u001b[39;00m self._is_level_reference(key, axis=axis):\n\u001b[32m   1909\u001b[39m             values = self.axes[axis].get_level_values(key)._values\n\u001b[32m   1910\u001b[39m         \u001b[38;5;28;01melse\u001b[39;00m:\n\u001b[32m-> \u001b[39m\u001b[32m1911\u001b[39m             \u001b[38;5;28;01mraise\u001b[39;00m KeyError(key)\n\u001b[32m   1912\u001b[39m \n\u001b[32m   1913\u001b[39m         \u001b[38;5;66;03m# Check for duplicates\u001b[39;00m\n\u001b[32m   1914\u001b[39m         \u001b[38;5;28;01mif\u001b[39;00m values.ndim > \u001b[32m1\u001b[39m:\n",
      "\u001b[31mKeyError\u001b[39m: 'match_id'"
     ]
    }
   ],
   "source": [
    "df_unified = pd.merge(df_schedule, df_advanced_stats, on='match_id', how='left')\n"
   ]
  }
 ],
 "metadata": {
  "kernelspec": {
   "display_name": "soccer_env",
   "language": "python",
   "name": "python3"
  },
  "language_info": {
   "codemirror_mode": {
    "name": "ipython",
    "version": 3
   },
   "file_extension": ".py",
   "mimetype": "text/x-python",
   "name": "python",
   "nbconvert_exporter": "python",
   "pygments_lexer": "ipython3",
   "version": "3.11.1"
  }
 },
 "nbformat": 4,
 "nbformat_minor": 2
}
